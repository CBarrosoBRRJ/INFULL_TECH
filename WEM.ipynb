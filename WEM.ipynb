{
 "cells": [
  {
   "cell_type": "code",
   "execution_count": 38,
   "metadata": {},
   "outputs": [
    {
     "name": "stdout",
     "output_type": "stream",
     "text": [
      "Lista de clientes:\n",
      "['Caracol Chocolates e Lanches - 2719188', 'Casa 1859 - Comida Brasileira - 569960', 'Casa 1859 Lanches e Cafés - 2800322', 'Catatau Lanches - 53271']\n"
     ]
    }
   ],
   "source": [
    "import pandas as pd\n",
    "import os\n",
    "\n",
    "# Caminho do arquivo Excel no mesmo diretório do script\n",
    "caminho_arquivo = os.path.join(os.getcwd(), 'LISTA DE CLIENTES.xlsx')\n",
    "\n",
    "# Verificar se o arquivo existe\n",
    "if os.path.exists(caminho_arquivo):\n",
    "    # Ler o arquivo Excel\n",
    "    df = pd.read_excel(caminho_arquivo)\n",
    "    \n",
    "    # Verificar se o DataFrame tem ao menos uma coluna\n",
    "    if df.shape[1] > 0:\n",
    "        # Converter a primeira coluna para uma lista, ignorando o nome da coluna\n",
    "        lista_clientes = df.iloc[:, 0].dropna().tolist()\n",
    "        \n",
    "        # Imprimir a lista gerada\n",
    "        print(\"Lista de clientes:\")\n",
    "        print(lista_clientes)\n",
    "    else:\n",
    "        print(\"O arquivo Excel não possui colunas.\")\n",
    "else:\n",
    "    print(f\"Erro: O arquivo '{caminho_arquivo}' não foi encontrado no diretório atual.\")\n"
   ]
  },
  {
   "cell_type": "code",
   "execution_count": 39,
   "metadata": {},
   "outputs": [
    {
     "data": {
      "text/plain": [
       "['Caracol Chocolates e Lanches - 2719188',\n",
       " 'Casa 1859 - Comida Brasileira - 569960',\n",
       " 'Casa 1859 Lanches e Cafés - 2800322',\n",
       " 'Catatau Lanches - 53271']"
      ]
     },
     "execution_count": 39,
     "metadata": {},
     "output_type": "execute_result"
    }
   ],
   "source": [
    "lista_clientes"
   ]
  },
  {
   "cell_type": "code",
   "execution_count": 10,
   "metadata": {},
   "outputs": [],
   "source": [
    "from selenium import webdriver\n",
    "import undetected_chromedriver as uc\n",
    "from selenium.webdriver.common.by import By\n",
    "from selenium.webdriver.support.ui import WebDriverWait\n",
    "from selenium.webdriver.support import expected_conditions as EC\n",
    "import time\n",
    "\n",
    "# Função para iniciar o navegador com anti-detecção\n",
    "def iniciar_navegador():\n",
    "    \"\"\"\n",
    "    Inicia o navegador Chrome de forma 'indetectável' usando undetected_chromedriver.\n",
    "    \"\"\"\n",
    "    try:\n",
    "        # Configurações do ChromeOptions\n",
    "        options = webdriver.ChromeOptions()\n",
    "        options.add_argument(\"--start-maximized\")  # Inicia o navegador maximizado\n",
    "        options.add_argument(\"--disable-blink-features=AutomationControlled\")  # Remove flag de automação\n",
    "        options.add_argument(\"--disable-extensions\")  # Desativa extensões\n",
    "        options.add_argument(\"--disable-popup-blocking\")  # Evita bloqueio de popups\n",
    "        options.add_argument(\"--disable-notifications\")  # Desativa notificações\n",
    "        options.add_argument(\"--no-sandbox\")  # Necessário em alguns sistemas\n",
    "        options.add_argument(\"--disable-dev-shm-usage\")  # Evita erros de memória compartilhada\n",
    "        options.add_argument(\"user-agent=Mozilla/5.0 (Windows NT 10.0; Win64; x64) AppleWebKit/537.36 (KHTML, like Gecko) Chrome/91.0.4472.77 Safari/537.36\")\n",
    "\n",
    "        # Inicializa o navegador\n",
    "        navegador = uc.Chrome(options=options)\n",
    "        \n",
    "        # Altera a propriedade de automação no JavaScript do navegador\n",
    "        navegador.execute_cdp_cmd(\"Page.addScriptToEvaluateOnNewDocument\", {\n",
    "            \"source\": \"\"\"\n",
    "            Object.defineProperty(navigator, 'webdriver', {\n",
    "                get: () => undefined\n",
    "            });\n",
    "            \"\"\"\n",
    "        })\n",
    "        \n",
    "        # Abre o site\n",
    "        url = 'https://portal.ifood.com.br/'\n",
    "        navegador.get(url)\n",
    "        print(\"Navegador iniciado com sucesso e site aberto.\")\n",
    "        return navegador\n",
    "    except Exception as e:\n",
    "        print(f\"Erro ao iniciar o navegador: {e}\")\n",
    "        return None\n",
    "\n",
    "\n"
   ]
  },
  {
   "cell_type": "code",
   "execution_count": 8,
   "metadata": {},
   "outputs": [],
   "source": [
    "# Importações necessárias do Selenium\n",
    "from selenium.webdriver.common.by import By\n",
    "from selenium.webdriver.support.ui import WebDriverWait\n",
    "from selenium.webdriver.support import expected_conditions as EC\n",
    "from selenium.common.exceptions import TimeoutException\n",
    "import time\n",
    "import random\n",
    "\n",
    "\n",
    "# Função para digitar lentamente (simula a digitação)\n",
    "def digitar_lentamente(element, texto):\n",
    "    for char in texto:\n",
    "        element.send_keys(char)\n",
    "        time.sleep(random.uniform(0.1, 0.5))  # Adiciona um pequeno atraso entre as teclas\n",
    "\n",
    "# Função para a Tela 01 - Colocar email\n",
    "def colocar_email(navegador):\n",
    "    \"\"\"\n",
    "    Digita o email no campo de login e clica no botão de login.\n",
    "    \"\"\"\n",
    "    try:\n",
    "        # Aguarda até que o campo de email esteja presente\n",
    "        campo_email = WebDriverWait(navegador, 15).until(\n",
    "            EC.visibility_of_element_located((By.XPATH, '//*[@id=\"email\"]'))\n",
    "        )\n",
    "        digitar_lentamente(campo_email, 'portalinfull@gmail.com')\n",
    "\n",
    "        # Aguarda e clica no botão de login\n",
    "        botao_login = WebDriverWait(navegador, 15).until(\n",
    "            EC.element_to_be_clickable((By.XPATH, '//*[@id=\"app\"]/div[1]/div[1]/div[2]/div[2]/main/form/button'))\n",
    "        )\n",
    "        botao_login.click()\n",
    "        print(\"Botão de login clicado com sucesso.\")\n",
    "    except TimeoutException:\n",
    "        print(\"O campo de email ou o botão de login não foi carregado a tempo.\")\n"
   ]
  },
  {
   "cell_type": "code",
   "execution_count": 3,
   "metadata": {},
   "outputs": [],
   "source": [
    "def colocar_senha(navegador):\n",
    "    # Continua com o preenchimento do campo de senha\n",
    "    try:\n",
    "        campo_senha = WebDriverWait(navegador, 15).until(\n",
    "            EC.visibility_of_element_located((By.XPATH, '//*[@id=\"password\"]'))\n",
    "        )\n",
    "        digitar_lentamente(campo_senha, 'Portal2024@')\n",
    "    except TimeoutException:\n",
    "        print(\"O campo de senha não foi carregado a tempo.\")\n",
    "\n",
    "    # Aguarda até que o botão para submeter a senha esteja presente na página (espera até 5 segundos)\n",
    "    try:\n",
    "        botao_submit = WebDriverWait(navegador, 15).until(\n",
    "            EC.visibility_of_element_located((By.XPATH, '//*[@id=\"app\"]/div[1]/div[1]/div[2]/div[2]/main/form/button'))\n",
    "        )\n",
    "        botao_submit.click()\n",
    "    except TimeoutException:\n",
    "        print(\"O botão de submit não foi carregado a tempo.\")"
   ]
  },
  {
   "cell_type": "code",
   "execution_count": 6,
   "metadata": {},
   "outputs": [],
   "source": [
    "from selenium import webdriver\n",
    "from selenium.webdriver.chrome.service import Service\n",
    "from selenium.webdriver.chrome.options import Options\n",
    "\n",
    "# Configuração do navegador\n",
    "def iniciar_navegador():\n",
    "    chrome_options = Options()\n",
    "    chrome_options.add_argument(\"--start-maximized\")\n",
    "    servico = Service()  # Caminho opcional para o ChromeDriver\n",
    "    navegador = webdriver.Chrome(service=servico, options=chrome_options)\n",
    "    navegador.get('https://portal.ifood.com.br/')\n",
    "    return navegador\n",
    "\n",
    "\n"
   ]
  },
  {
   "cell_type": "code",
   "execution_count": 11,
   "metadata": {},
   "outputs": [
    {
     "name": "stdout",
     "output_type": "stream",
     "text": [
      "Navegador iniciado com sucesso e site aberto.\n",
      "Botão de login clicado com sucesso.\n"
     ]
    }
   ],
   "source": [
    "# Execução principal\n",
    "if __name__ == \"__main__\":\n",
    "    # Abre o navegador apenas uma vez\n",
    "    navegador = iniciar_navegador()\n",
    "\n",
    "    # Testa as funções de email e senha\n",
    "    colocar_email(navegador)\n",
    "    time.sleep(2)  # Aguarda um pouco entre as etapas\n",
    "    colocar_senha(navegador)\n",
    "\n",
    "    # Mantém o navegador aberto para inspeção (caso necessário)\n",
    "    input(\"Pressione Enter para fechar o navegador...\")\n",
    "    navegador.quit()\n"
   ]
  }
 ],
 "metadata": {
  "kernelspec": {
   "display_name": "base",
   "language": "python",
   "name": "python3"
  },
  "language_info": {
   "codemirror_mode": {
    "name": "ipython",
    "version": 3
   },
   "file_extension": ".py",
   "mimetype": "text/x-python",
   "name": "python",
   "nbconvert_exporter": "python",
   "pygments_lexer": "ipython3",
   "version": "3.12.7"
  }
 },
 "nbformat": 4,
 "nbformat_minor": 2
}
